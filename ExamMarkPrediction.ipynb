{
  "nbformat": 4,
  "nbformat_minor": 0,
  "metadata": {
    "colab": {
      "provenance": [],
      "authorship_tag": "ABX9TyNY89dVIfnsvAvgqkBAQvjb",
      "include_colab_link": true
    },
    "kernelspec": {
      "name": "python3",
      "display_name": "Python 3"
    },
    "language_info": {
      "name": "python"
    }
  },
  "cells": [
    {
      "cell_type": "markdown",
      "metadata": {
        "id": "view-in-github",
        "colab_type": "text"
      },
      "source": [
        "<a href=\"https://colab.research.google.com/github/shubhamrai1318/ExamMarkPrediction/blob/main/ExamMarkPrediction.ipynb\" target=\"_parent\"><img src=\"https://colab.research.google.com/assets/colab-badge.svg\" alt=\"Open In Colab\"/></a>"
      ]
    },
    {
      "cell_type": "markdown",
      "source": [
        "# **Exam mark prediction using Linear Regression-MultipleVariable**"
      ],
      "metadata": {
        "id": "ZONuQs5cFaAi"
      }
    },
    {
      "cell_type": "markdown",
      "source": [
        "### **Import Libraries**"
      ],
      "metadata": {
        "id": "-ojrUA-gFeXN"
      }
    },
    {
      "cell_type": "code",
      "source": [
        "import pandas as pd\n",
        "from sklearn.linear_model import LinearRegression"
      ],
      "metadata": {
        "id": "QVWc8FiKFk2E"
      },
      "execution_count": 1,
      "outputs": []
    },
    {
      "cell_type": "markdown",
      "source": [
        "### **Load Dataset from Local Directory**"
      ],
      "metadata": {
        "id": "mQ33oVctFnB2"
      }
    },
    {
      "cell_type": "code",
      "source": [
        "from google.colab import files\n",
        "uploaded = files.upload()"
      ],
      "metadata": {
        "colab": {
          "base_uri": "https://localhost:8080/",
          "height": 73
        },
        "id": "8H19dpwuFrql",
        "outputId": "438b4d16-caa3-4865-e74b-02013875a708"
      },
      "execution_count": 2,
      "outputs": [
        {
          "output_type": "display_data",
          "data": {
            "text/plain": [
              "<IPython.core.display.HTML object>"
            ],
            "text/html": [
              "\n",
              "     <input type=\"file\" id=\"files-ac972028-4f43-4b50-8cac-c0066fa000e0\" name=\"files[]\" multiple disabled\n",
              "        style=\"border:none\" />\n",
              "     <output id=\"result-ac972028-4f43-4b50-8cac-c0066fa000e0\">\n",
              "      Upload widget is only available when the cell has been executed in the\n",
              "      current browser session. Please rerun this cell to enable.\n",
              "      </output>\n",
              "      <script>// Copyright 2017 Google LLC\n",
              "//\n",
              "// Licensed under the Apache License, Version 2.0 (the \"License\");\n",
              "// you may not use this file except in compliance with the License.\n",
              "// You may obtain a copy of the License at\n",
              "//\n",
              "//      http://www.apache.org/licenses/LICENSE-2.0\n",
              "//\n",
              "// Unless required by applicable law or agreed to in writing, software\n",
              "// distributed under the License is distributed on an \"AS IS\" BASIS,\n",
              "// WITHOUT WARRANTIES OR CONDITIONS OF ANY KIND, either express or implied.\n",
              "// See the License for the specific language governing permissions and\n",
              "// limitations under the License.\n",
              "\n",
              "/**\n",
              " * @fileoverview Helpers for google.colab Python module.\n",
              " */\n",
              "(function(scope) {\n",
              "function span(text, styleAttributes = {}) {\n",
              "  const element = document.createElement('span');\n",
              "  element.textContent = text;\n",
              "  for (const key of Object.keys(styleAttributes)) {\n",
              "    element.style[key] = styleAttributes[key];\n",
              "  }\n",
              "  return element;\n",
              "}\n",
              "\n",
              "// Max number of bytes which will be uploaded at a time.\n",
              "const MAX_PAYLOAD_SIZE = 100 * 1024;\n",
              "\n",
              "function _uploadFiles(inputId, outputId) {\n",
              "  const steps = uploadFilesStep(inputId, outputId);\n",
              "  const outputElement = document.getElementById(outputId);\n",
              "  // Cache steps on the outputElement to make it available for the next call\n",
              "  // to uploadFilesContinue from Python.\n",
              "  outputElement.steps = steps;\n",
              "\n",
              "  return _uploadFilesContinue(outputId);\n",
              "}\n",
              "\n",
              "// This is roughly an async generator (not supported in the browser yet),\n",
              "// where there are multiple asynchronous steps and the Python side is going\n",
              "// to poll for completion of each step.\n",
              "// This uses a Promise to block the python side on completion of each step,\n",
              "// then passes the result of the previous step as the input to the next step.\n",
              "function _uploadFilesContinue(outputId) {\n",
              "  const outputElement = document.getElementById(outputId);\n",
              "  const steps = outputElement.steps;\n",
              "\n",
              "  const next = steps.next(outputElement.lastPromiseValue);\n",
              "  return Promise.resolve(next.value.promise).then((value) => {\n",
              "    // Cache the last promise value to make it available to the next\n",
              "    // step of the generator.\n",
              "    outputElement.lastPromiseValue = value;\n",
              "    return next.value.response;\n",
              "  });\n",
              "}\n",
              "\n",
              "/**\n",
              " * Generator function which is called between each async step of the upload\n",
              " * process.\n",
              " * @param {string} inputId Element ID of the input file picker element.\n",
              " * @param {string} outputId Element ID of the output display.\n",
              " * @return {!Iterable<!Object>} Iterable of next steps.\n",
              " */\n",
              "function* uploadFilesStep(inputId, outputId) {\n",
              "  const inputElement = document.getElementById(inputId);\n",
              "  inputElement.disabled = false;\n",
              "\n",
              "  const outputElement = document.getElementById(outputId);\n",
              "  outputElement.innerHTML = '';\n",
              "\n",
              "  const pickedPromise = new Promise((resolve) => {\n",
              "    inputElement.addEventListener('change', (e) => {\n",
              "      resolve(e.target.files);\n",
              "    });\n",
              "  });\n",
              "\n",
              "  const cancel = document.createElement('button');\n",
              "  inputElement.parentElement.appendChild(cancel);\n",
              "  cancel.textContent = 'Cancel upload';\n",
              "  const cancelPromise = new Promise((resolve) => {\n",
              "    cancel.onclick = () => {\n",
              "      resolve(null);\n",
              "    };\n",
              "  });\n",
              "\n",
              "  // Wait for the user to pick the files.\n",
              "  const files = yield {\n",
              "    promise: Promise.race([pickedPromise, cancelPromise]),\n",
              "    response: {\n",
              "      action: 'starting',\n",
              "    }\n",
              "  };\n",
              "\n",
              "  cancel.remove();\n",
              "\n",
              "  // Disable the input element since further picks are not allowed.\n",
              "  inputElement.disabled = true;\n",
              "\n",
              "  if (!files) {\n",
              "    return {\n",
              "      response: {\n",
              "        action: 'complete',\n",
              "      }\n",
              "    };\n",
              "  }\n",
              "\n",
              "  for (const file of files) {\n",
              "    const li = document.createElement('li');\n",
              "    li.append(span(file.name, {fontWeight: 'bold'}));\n",
              "    li.append(span(\n",
              "        `(${file.type || 'n/a'}) - ${file.size} bytes, ` +\n",
              "        `last modified: ${\n",
              "            file.lastModifiedDate ? file.lastModifiedDate.toLocaleDateString() :\n",
              "                                    'n/a'} - `));\n",
              "    const percent = span('0% done');\n",
              "    li.appendChild(percent);\n",
              "\n",
              "    outputElement.appendChild(li);\n",
              "\n",
              "    const fileDataPromise = new Promise((resolve) => {\n",
              "      const reader = new FileReader();\n",
              "      reader.onload = (e) => {\n",
              "        resolve(e.target.result);\n",
              "      };\n",
              "      reader.readAsArrayBuffer(file);\n",
              "    });\n",
              "    // Wait for the data to be ready.\n",
              "    let fileData = yield {\n",
              "      promise: fileDataPromise,\n",
              "      response: {\n",
              "        action: 'continue',\n",
              "      }\n",
              "    };\n",
              "\n",
              "    // Use a chunked sending to avoid message size limits. See b/62115660.\n",
              "    let position = 0;\n",
              "    do {\n",
              "      const length = Math.min(fileData.byteLength - position, MAX_PAYLOAD_SIZE);\n",
              "      const chunk = new Uint8Array(fileData, position, length);\n",
              "      position += length;\n",
              "\n",
              "      const base64 = btoa(String.fromCharCode.apply(null, chunk));\n",
              "      yield {\n",
              "        response: {\n",
              "          action: 'append',\n",
              "          file: file.name,\n",
              "          data: base64,\n",
              "        },\n",
              "      };\n",
              "\n",
              "      let percentDone = fileData.byteLength === 0 ?\n",
              "          100 :\n",
              "          Math.round((position / fileData.byteLength) * 100);\n",
              "      percent.textContent = `${percentDone}% done`;\n",
              "\n",
              "    } while (position < fileData.byteLength);\n",
              "  }\n",
              "\n",
              "  // All done.\n",
              "  yield {\n",
              "    response: {\n",
              "      action: 'complete',\n",
              "    }\n",
              "  };\n",
              "}\n",
              "\n",
              "scope.google = scope.google || {};\n",
              "scope.google.colab = scope.google.colab || {};\n",
              "scope.google.colab._files = {\n",
              "  _uploadFiles,\n",
              "  _uploadFilesContinue,\n",
              "};\n",
              "})(self);\n",
              "</script> "
            ]
          },
          "metadata": {}
        },
        {
          "output_type": "stream",
          "name": "stdout",
          "text": [
            "Saving data.csv to data.csv\n"
          ]
        }
      ]
    },
    {
      "cell_type": "code",
      "source": [
        "# Load Dataset\n",
        "dataset = pd.read_csv('data.csv')"
      ],
      "metadata": {
        "id": "pOA6etTJFted"
      },
      "execution_count": 3,
      "outputs": []
    },
    {
      "cell_type": "code",
      "source": [
        "dataset.head()"
      ],
      "metadata": {
        "colab": {
          "base_uri": "https://localhost:8080/",
          "height": 206
        },
        "id": "1cc2qzc_GjLl",
        "outputId": "d862be40-28af-4c95-bb02-9d63d87cffed"
      },
      "execution_count": 9,
      "outputs": [
        {
          "output_type": "execute_result",
          "data": {
            "text/plain": [
              "      hours  age  internet  marks\n",
              "0  6.830000   15         1  78.50\n",
              "1  6.560000   16         0  76.74\n",
              "2  6.981429   17         1  78.68\n",
              "3  5.670000   18         0  71.82\n",
              "4  8.670000   19         1  84.19"
            ],
            "text/html": [
              "\n",
              "\n",
              "  <div id=\"df-6771e60d-aaad-49ef-8ac0-d61276ed1964\">\n",
              "    <div class=\"colab-df-container\">\n",
              "      <div>\n",
              "<style scoped>\n",
              "    .dataframe tbody tr th:only-of-type {\n",
              "        vertical-align: middle;\n",
              "    }\n",
              "\n",
              "    .dataframe tbody tr th {\n",
              "        vertical-align: top;\n",
              "    }\n",
              "\n",
              "    .dataframe thead th {\n",
              "        text-align: right;\n",
              "    }\n",
              "</style>\n",
              "<table border=\"1\" class=\"dataframe\">\n",
              "  <thead>\n",
              "    <tr style=\"text-align: right;\">\n",
              "      <th></th>\n",
              "      <th>hours</th>\n",
              "      <th>age</th>\n",
              "      <th>internet</th>\n",
              "      <th>marks</th>\n",
              "    </tr>\n",
              "  </thead>\n",
              "  <tbody>\n",
              "    <tr>\n",
              "      <th>0</th>\n",
              "      <td>6.830000</td>\n",
              "      <td>15</td>\n",
              "      <td>1</td>\n",
              "      <td>78.50</td>\n",
              "    </tr>\n",
              "    <tr>\n",
              "      <th>1</th>\n",
              "      <td>6.560000</td>\n",
              "      <td>16</td>\n",
              "      <td>0</td>\n",
              "      <td>76.74</td>\n",
              "    </tr>\n",
              "    <tr>\n",
              "      <th>2</th>\n",
              "      <td>6.981429</td>\n",
              "      <td>17</td>\n",
              "      <td>1</td>\n",
              "      <td>78.68</td>\n",
              "    </tr>\n",
              "    <tr>\n",
              "      <th>3</th>\n",
              "      <td>5.670000</td>\n",
              "      <td>18</td>\n",
              "      <td>0</td>\n",
              "      <td>71.82</td>\n",
              "    </tr>\n",
              "    <tr>\n",
              "      <th>4</th>\n",
              "      <td>8.670000</td>\n",
              "      <td>19</td>\n",
              "      <td>1</td>\n",
              "      <td>84.19</td>\n",
              "    </tr>\n",
              "  </tbody>\n",
              "</table>\n",
              "</div>\n",
              "      <button class=\"colab-df-convert\" onclick=\"convertToInteractive('df-6771e60d-aaad-49ef-8ac0-d61276ed1964')\"\n",
              "              title=\"Convert this dataframe to an interactive table.\"\n",
              "              style=\"display:none;\">\n",
              "\n",
              "  <svg xmlns=\"http://www.w3.org/2000/svg\" height=\"24px\"viewBox=\"0 0 24 24\"\n",
              "       width=\"24px\">\n",
              "    <path d=\"M0 0h24v24H0V0z\" fill=\"none\"/>\n",
              "    <path d=\"M18.56 5.44l.94 2.06.94-2.06 2.06-.94-2.06-.94-.94-2.06-.94 2.06-2.06.94zm-11 1L8.5 8.5l.94-2.06 2.06-.94-2.06-.94L8.5 2.5l-.94 2.06-2.06.94zm10 10l.94 2.06.94-2.06 2.06-.94-2.06-.94-.94-2.06-.94 2.06-2.06.94z\"/><path d=\"M17.41 7.96l-1.37-1.37c-.4-.4-.92-.59-1.43-.59-.52 0-1.04.2-1.43.59L10.3 9.45l-7.72 7.72c-.78.78-.78 2.05 0 2.83L4 21.41c.39.39.9.59 1.41.59.51 0 1.02-.2 1.41-.59l7.78-7.78 2.81-2.81c.8-.78.8-2.07 0-2.86zM5.41 20L4 18.59l7.72-7.72 1.47 1.35L5.41 20z\"/>\n",
              "  </svg>\n",
              "      </button>\n",
              "\n",
              "\n",
              "\n",
              "    <div id=\"df-6f4ff1fc-99eb-47eb-81df-ceae0aa0cca1\">\n",
              "      <button class=\"colab-df-quickchart\" onclick=\"quickchart('df-6f4ff1fc-99eb-47eb-81df-ceae0aa0cca1')\"\n",
              "              title=\"Suggest charts.\"\n",
              "              style=\"display:none;\">\n",
              "\n",
              "<svg xmlns=\"http://www.w3.org/2000/svg\" height=\"24px\"viewBox=\"0 0 24 24\"\n",
              "     width=\"24px\">\n",
              "    <g>\n",
              "        <path d=\"M19 3H5c-1.1 0-2 .9-2 2v14c0 1.1.9 2 2 2h14c1.1 0 2-.9 2-2V5c0-1.1-.9-2-2-2zM9 17H7v-7h2v7zm4 0h-2V7h2v10zm4 0h-2v-4h2v4z\"/>\n",
              "    </g>\n",
              "</svg>\n",
              "      </button>\n",
              "    </div>\n",
              "\n",
              "<style>\n",
              "  .colab-df-quickchart {\n",
              "    background-color: #E8F0FE;\n",
              "    border: none;\n",
              "    border-radius: 50%;\n",
              "    cursor: pointer;\n",
              "    display: none;\n",
              "    fill: #1967D2;\n",
              "    height: 32px;\n",
              "    padding: 0 0 0 0;\n",
              "    width: 32px;\n",
              "  }\n",
              "\n",
              "  .colab-df-quickchart:hover {\n",
              "    background-color: #E2EBFA;\n",
              "    box-shadow: 0px 1px 2px rgba(60, 64, 67, 0.3), 0px 1px 3px 1px rgba(60, 64, 67, 0.15);\n",
              "    fill: #174EA6;\n",
              "  }\n",
              "\n",
              "  [theme=dark] .colab-df-quickchart {\n",
              "    background-color: #3B4455;\n",
              "    fill: #D2E3FC;\n",
              "  }\n",
              "\n",
              "  [theme=dark] .colab-df-quickchart:hover {\n",
              "    background-color: #434B5C;\n",
              "    box-shadow: 0px 1px 3px 1px rgba(0, 0, 0, 0.15);\n",
              "    filter: drop-shadow(0px 1px 2px rgba(0, 0, 0, 0.3));\n",
              "    fill: #FFFFFF;\n",
              "  }\n",
              "</style>\n",
              "\n",
              "    <script>\n",
              "      async function quickchart(key) {\n",
              "        const containerElement = document.querySelector('#' + key);\n",
              "        const charts = await google.colab.kernel.invokeFunction(\n",
              "            'suggestCharts', [key], {});\n",
              "      }\n",
              "    </script>\n",
              "\n",
              "\n",
              "      <script>\n",
              "\n",
              "function displayQuickchartButton(domScope) {\n",
              "  let quickchartButtonEl =\n",
              "    domScope.querySelector('#df-6f4ff1fc-99eb-47eb-81df-ceae0aa0cca1 button.colab-df-quickchart');\n",
              "  quickchartButtonEl.style.display =\n",
              "    google.colab.kernel.accessAllowed ? 'block' : 'none';\n",
              "}\n",
              "\n",
              "        displayQuickchartButton(document);\n",
              "      </script>\n",
              "      <style>\n",
              "    .colab-df-container {\n",
              "      display:flex;\n",
              "      flex-wrap:wrap;\n",
              "      gap: 12px;\n",
              "    }\n",
              "\n",
              "    .colab-df-convert {\n",
              "      background-color: #E8F0FE;\n",
              "      border: none;\n",
              "      border-radius: 50%;\n",
              "      cursor: pointer;\n",
              "      display: none;\n",
              "      fill: #1967D2;\n",
              "      height: 32px;\n",
              "      padding: 0 0 0 0;\n",
              "      width: 32px;\n",
              "    }\n",
              "\n",
              "    .colab-df-convert:hover {\n",
              "      background-color: #E2EBFA;\n",
              "      box-shadow: 0px 1px 2px rgba(60, 64, 67, 0.3), 0px 1px 3px 1px rgba(60, 64, 67, 0.15);\n",
              "      fill: #174EA6;\n",
              "    }\n",
              "\n",
              "    [theme=dark] .colab-df-convert {\n",
              "      background-color: #3B4455;\n",
              "      fill: #D2E3FC;\n",
              "    }\n",
              "\n",
              "    [theme=dark] .colab-df-convert:hover {\n",
              "      background-color: #434B5C;\n",
              "      box-shadow: 0px 1px 3px 1px rgba(0, 0, 0, 0.15);\n",
              "      filter: drop-shadow(0px 1px 2px rgba(0, 0, 0, 0.3));\n",
              "      fill: #FFFFFF;\n",
              "    }\n",
              "  </style>\n",
              "\n",
              "      <script>\n",
              "        const buttonEl =\n",
              "          document.querySelector('#df-6771e60d-aaad-49ef-8ac0-d61276ed1964 button.colab-df-convert');\n",
              "        buttonEl.style.display =\n",
              "          google.colab.kernel.accessAllowed ? 'block' : 'none';\n",
              "\n",
              "        async function convertToInteractive(key) {\n",
              "          const element = document.querySelector('#df-6771e60d-aaad-49ef-8ac0-d61276ed1964');\n",
              "          const dataTable =\n",
              "            await google.colab.kernel.invokeFunction('convertToInteractive',\n",
              "                                                     [key], {});\n",
              "          if (!dataTable) return;\n",
              "\n",
              "          const docLinkHtml = 'Like what you see? Visit the ' +\n",
              "            '<a target=\"_blank\" href=https://colab.research.google.com/notebooks/data_table.ipynb>data table notebook</a>'\n",
              "            + ' to learn more about interactive tables.';\n",
              "          element.innerHTML = '';\n",
              "          dataTable['output_type'] = 'display_data';\n",
              "          await google.colab.output.renderOutput(dataTable, element);\n",
              "          const docLink = document.createElement('div');\n",
              "          docLink.innerHTML = docLinkHtml;\n",
              "          element.appendChild(docLink);\n",
              "        }\n",
              "      </script>\n",
              "    </div>\n",
              "  </div>\n"
            ]
          },
          "metadata": {},
          "execution_count": 9
        }
      ]
    },
    {
      "cell_type": "markdown",
      "source": [
        "### **Finding & Removing NA values from our Features X**"
      ],
      "metadata": {
        "id": "VlA6JkwCF49d"
      }
    },
    {
      "cell_type": "code",
      "source": [
        "dataset.columns[dataset.isna().any()]\n",
        "\n",
        "dataset.hours = dataset.hours.fillna(dataset.hours.mean())\n"
      ],
      "metadata": {
        "id": "x32bdfCJF8yf"
      },
      "execution_count": 4,
      "outputs": []
    },
    {
      "cell_type": "markdown",
      "source": [
        "### **Segregate Dataset into Input X & Output Y**"
      ],
      "metadata": {
        "id": "9JImYM43GEEb"
      }
    },
    {
      "cell_type": "code",
      "source": [
        "X = dataset.iloc[:, :-1].values\n",
        "print(X.shape)\n",
        "X"
      ],
      "metadata": {
        "colab": {
          "base_uri": "https://localhost:8080/"
        },
        "id": "0NyfEtNWGJQe",
        "outputId": "3b0e8c61-291c-4801-acd6-5dbfd9795209"
      },
      "execution_count": 5,
      "outputs": [
        {
          "output_type": "stream",
          "name": "stdout",
          "text": [
            "(201, 3)\n"
          ]
        },
        {
          "output_type": "execute_result",
          "data": {
            "text/plain": [
              "array([[ 6.83      , 15.        ,  1.        ],\n",
              "       [ 6.56      , 16.        ,  0.        ],\n",
              "       [ 6.98142857, 17.        ,  1.        ],\n",
              "       [ 5.67      , 18.        ,  0.        ],\n",
              "       [ 8.67      , 19.        ,  1.        ],\n",
              "       [ 7.55      , 20.        ,  0.        ],\n",
              "       [ 6.67      , 15.        ,  0.        ],\n",
              "       [ 8.99      , 16.        ,  0.        ],\n",
              "       [ 5.19      , 17.        ,  1.        ],\n",
              "       [ 6.75      , 18.        ,  0.        ],\n",
              "       [ 6.59      , 19.        ,  0.        ],\n",
              "       [ 8.56      , 20.        ,  1.        ],\n",
              "       [ 7.75      , 15.        ,  0.        ],\n",
              "       [ 7.9       , 16.        ,  1.        ],\n",
              "       [ 8.19      , 17.        ,  0.        ],\n",
              "       [ 6.55      , 18.        ,  1.        ],\n",
              "       [ 6.36      , 19.        ,  0.        ],\n",
              "       [ 8.44      , 20.        ,  1.        ],\n",
              "       [ 8.41      , 15.        ,  0.        ],\n",
              "       [ 7.67      , 16.        ,  1.        ],\n",
              "       [ 7.42      , 17.        ,  1.        ],\n",
              "       [ 8.16      , 18.        ,  1.        ],\n",
              "       [ 5.05      , 19.        ,  1.        ],\n",
              "       [ 5.85      , 20.        ,  1.        ],\n",
              "       [ 5.45      , 15.        ,  0.        ],\n",
              "       [ 7.96      , 16.        ,  0.        ],\n",
              "       [ 6.51      , 17.        ,  0.        ],\n",
              "       [ 6.73      , 18.        ,  0.        ],\n",
              "       [ 5.94      , 19.        ,  1.        ],\n",
              "       [ 7.48      , 20.        ,  0.        ],\n",
              "       [ 8.13      , 15.        ,  1.        ],\n",
              "       [ 6.98142857, 16.        ,  1.        ],\n",
              "       [ 5.4       , 17.        ,  1.        ],\n",
              "       [ 8.78      , 18.        ,  0.        ],\n",
              "       [ 8.72      , 19.        ,  1.        ],\n",
              "       [ 7.1       , 20.        ,  0.        ],\n",
              "       [ 7.86      , 15.        ,  1.        ],\n",
              "       [ 7.19      , 16.        ,  0.        ],\n",
              "       [ 5.62      , 17.        ,  1.        ],\n",
              "       [ 7.88      , 18.        ,  0.        ],\n",
              "       [ 5.28      , 19.        ,  1.        ],\n",
              "       [ 8.92      , 20.        ,  1.        ],\n",
              "       [ 5.46      , 15.        ,  0.        ],\n",
              "       [ 8.3       , 16.        ,  1.        ],\n",
              "       [ 8.09      , 17.        ,  0.        ],\n",
              "       [ 6.18      , 18.        ,  1.        ],\n",
              "       [ 7.01      , 19.        ,  1.        ],\n",
              "       [ 5.01      , 20.        ,  0.        ],\n",
              "       [ 5.54      , 15.        ,  1.        ],\n",
              "       [ 5.09      , 16.        ,  1.        ],\n",
              "       [ 5.09      , 17.        ,  0.        ],\n",
              "       [ 7.31      , 18.        ,  1.        ],\n",
              "       [ 8.71      , 19.        ,  0.        ],\n",
              "       [ 5.52      , 20.        ,  1.        ],\n",
              "       [ 8.76      , 15.        ,  0.        ],\n",
              "       [ 8.69      , 16.        ,  1.        ],\n",
              "       [ 5.75      , 17.        ,  1.        ],\n",
              "       [ 8.93      , 18.        ,  1.        ],\n",
              "       [ 5.39      , 19.        ,  1.        ],\n",
              "       [ 5.65      , 20.        ,  0.        ],\n",
              "       [ 5.49      , 15.        ,  1.        ],\n",
              "       [ 7.26      , 16.        ,  1.        ],\n",
              "       [ 6.35      , 17.        ,  0.        ],\n",
              "       [ 7.72      , 18.        ,  1.        ],\n",
              "       [ 8.88      , 19.        ,  0.        ],\n",
              "       [ 5.45      , 20.        ,  1.        ],\n",
              "       [ 7.86      , 15.        ,  1.        ],\n",
              "       [ 8.26      , 16.        ,  0.        ],\n",
              "       [ 5.07      , 17.        ,  1.        ],\n",
              "       [ 8.25      , 18.        ,  0.        ],\n",
              "       [ 5.37      , 19.        ,  1.        ],\n",
              "       [ 5.11      , 20.        ,  1.        ],\n",
              "       [ 6.35      , 15.        ,  0.        ],\n",
              "       [ 7.41      , 16.        ,  1.        ],\n",
              "       [ 7.31      , 17.        ,  0.        ],\n",
              "       [ 6.04      , 18.        ,  1.        ],\n",
              "       [ 5.11      , 19.        ,  1.        ],\n",
              "       [ 6.56      , 20.        ,  0.        ],\n",
              "       [ 5.09      , 15.        ,  1.        ],\n",
              "       [ 5.88      , 16.        ,  0.        ],\n",
              "       [ 8.34      , 17.        ,  1.        ],\n",
              "       [ 7.94      , 18.        ,  0.        ],\n",
              "       [ 6.66      , 19.        ,  1.        ],\n",
              "       [ 6.01      , 20.        ,  1.        ],\n",
              "       [ 6.88      , 15.        ,  0.        ],\n",
              "       [ 5.63      , 16.        ,  1.        ],\n",
              "       [ 5.88      , 17.        ,  0.        ],\n",
              "       [ 8.05      , 18.        ,  1.        ],\n",
              "       [ 5.33      , 19.        ,  0.        ],\n",
              "       [ 8.79      , 20.        ,  0.        ],\n",
              "       [ 7.52      , 15.        ,  1.        ],\n",
              "       [ 8.2       , 16.        ,  0.        ],\n",
              "       [ 5.44      , 17.        ,  1.        ],\n",
              "       [ 7.9       , 18.        ,  0.        ],\n",
              "       [ 7.69      , 19.        ,  1.        ],\n",
              "       [ 6.09      , 20.        ,  0.        ],\n",
              "       [ 6.98142857, 15.        ,  1.        ],\n",
              "       [ 5.2       , 16.        ,  1.        ],\n",
              "       [ 8.88      , 17.        ,  0.        ],\n",
              "       [ 8.07      , 18.        ,  1.        ],\n",
              "       [ 6.24      , 19.        ,  1.        ],\n",
              "       [ 7.95      , 20.        ,  0.        ],\n",
              "       [ 8.26      , 15.        ,  0.        ],\n",
              "       [ 7.31      , 16.        ,  1.        ],\n",
              "       [ 7.23      , 17.        ,  1.        ],\n",
              "       [ 6.46      , 18.        ,  1.        ],\n",
              "       [ 5.34      , 19.        ,  1.        ],\n",
              "       [ 5.72      , 20.        ,  1.        ],\n",
              "       [ 5.84      , 15.        ,  0.        ],\n",
              "       [ 5.02      , 16.        ,  1.        ],\n",
              "       [ 7.98      , 17.        ,  0.        ],\n",
              "       [ 6.37      , 18.        ,  1.        ],\n",
              "       [ 6.92      , 19.        ,  0.        ],\n",
              "       [ 7.95      , 20.        ,  1.        ],\n",
              "       [ 7.12      , 15.        ,  0.        ],\n",
              "       [ 5.79      , 16.        ,  1.        ],\n",
              "       [ 5.4       , 17.        ,  0.        ],\n",
              "       [ 8.83      , 18.        ,  1.        ],\n",
              "       [ 5.69      , 19.        ,  0.        ],\n",
              "       [ 6.6       , 20.        ,  1.        ],\n",
              "       [ 6.52      , 15.        ,  0.        ],\n",
              "       [ 8.31      , 16.        ,  0.        ],\n",
              "       [ 6.98142857, 17.        ,  1.        ],\n",
              "       [ 7.62      , 18.        ,  0.        ],\n",
              "       [ 8.69      , 19.        ,  1.        ],\n",
              "       [ 8.75      , 20.        ,  0.        ],\n",
              "       [ 6.46      , 15.        ,  1.        ],\n",
              "       [ 7.14      , 16.        ,  1.        ],\n",
              "       [ 6.38      , 17.        ,  0.        ],\n",
              "       [ 6.33      , 18.        ,  1.        ],\n",
              "       [ 5.64      , 19.        ,  0.        ],\n",
              "       [ 5.26      , 20.        ,  1.        ],\n",
              "       [ 6.83      , 15.        ,  1.        ],\n",
              "       [ 5.76      , 16.        ,  0.        ],\n",
              "       [ 6.51      , 17.        ,  1.        ],\n",
              "       [ 8.33      , 18.        ,  0.        ],\n",
              "       [ 8.16      , 19.        ,  1.        ],\n",
              "       [ 5.14      , 20.        ,  0.        ],\n",
              "       [ 8.71      , 15.        ,  0.        ],\n",
              "       [ 8.6       , 16.        ,  1.        ],\n",
              "       [ 8.6       , 17.        ,  0.        ],\n",
              "       [ 7.43      , 18.        ,  1.        ],\n",
              "       [ 7.81      , 19.        ,  1.        ],\n",
              "       [ 6.51      , 20.        ,  0.        ],\n",
              "       [ 8.11      , 15.        ,  1.        ],\n",
              "       [ 8.95      , 16.        ,  0.        ],\n",
              "       [ 7.99      , 17.        ,  1.        ],\n",
              "       [ 5.92      , 18.        ,  0.        ],\n",
              "       [ 8.3       , 19.        ,  1.        ],\n",
              "       [ 8.97      , 20.        ,  0.        ],\n",
              "       [ 5.39      , 15.        ,  0.        ],\n",
              "       [ 6.77      , 16.        ,  0.        ],\n",
              "       [ 8.08      , 17.        ,  1.        ],\n",
              "       [ 5.24      , 18.        ,  0.        ],\n",
              "       [ 6.93      , 19.        ,  1.        ],\n",
              "       [ 5.14      , 20.        ,  0.        ],\n",
              "       [ 8.39      , 15.        ,  1.        ],\n",
              "       [ 6.18      , 16.        ,  0.        ],\n",
              "       [ 7.53      , 17.        ,  1.        ],\n",
              "       [ 7.86      , 18.        ,  0.        ],\n",
              "       [ 7.7       , 19.        ,  1.        ],\n",
              "       [ 7.3       , 20.        ,  0.        ],\n",
              "       [ 7.79      , 15.        ,  1.        ],\n",
              "       [ 6.75      , 16.        ,  0.        ],\n",
              "       [ 7.87      , 17.        ,  1.        ],\n",
              "       [ 5.38      , 18.        ,  0.        ],\n",
              "       [ 7.8       , 19.        ,  1.        ],\n",
              "       [ 5.07      , 20.        ,  0.        ],\n",
              "       [ 7.95      , 15.        ,  1.        ],\n",
              "       [ 8.35      , 16.        ,  0.        ],\n",
              "       [ 5.19      , 17.        ,  0.        ],\n",
              "       [ 7.19      , 18.        ,  0.        ],\n",
              "       [ 7.35      , 19.        ,  1.        ],\n",
              "       [ 5.22      , 20.        ,  1.        ],\n",
              "       [ 5.39      , 15.        ,  1.        ],\n",
              "       [ 5.39      , 16.        ,  1.        ],\n",
              "       [ 8.93      , 17.        ,  1.        ],\n",
              "       [ 5.79      , 18.        ,  0.        ],\n",
              "       [ 8.42      , 19.        ,  1.        ],\n",
              "       [ 7.26      , 20.        ,  0.        ],\n",
              "       [ 6.97      , 15.        ,  1.        ],\n",
              "       [ 5.55      , 16.        ,  1.        ],\n",
              "       [ 8.66      , 17.        ,  0.        ],\n",
              "       [ 8.61      , 18.        ,  1.        ],\n",
              "       [ 5.22      , 19.        ,  1.        ],\n",
              "       [ 8.05      , 20.        ,  0.        ],\n",
              "       [ 8.87      , 15.        ,  1.        ],\n",
              "       [ 5.54      , 16.        ,  0.        ],\n",
              "       [ 6.98142857, 17.        ,  0.        ],\n",
              "       [ 7.26      , 18.        ,  1.        ],\n",
              "       [ 5.79      , 19.        ,  0.        ],\n",
              "       [ 5.22      , 20.        ,  0.        ],\n",
              "       [ 8.71      , 15.        ,  1.        ],\n",
              "       [ 7.55      , 16.        ,  1.        ],\n",
              "       [ 6.35      , 17.        ,  1.        ],\n",
              "       [ 7.53      , 18.        ,  0.        ],\n",
              "       [ 8.56      , 19.        ,  1.        ],\n",
              "       [ 8.94      , 20.        ,  1.        ],\n",
              "       [ 6.6       , 15.        ,  1.        ],\n",
              "       [ 8.35      , 16.        ,  1.        ],\n",
              "       [ 4.15      , 15.        ,  0.        ]])"
            ]
          },
          "metadata": {},
          "execution_count": 5
        }
      ]
    },
    {
      "cell_type": "code",
      "source": [
        "Y = dataset.iloc[:, -1].values\n",
        "Y"
      ],
      "metadata": {
        "colab": {
          "base_uri": "https://localhost:8080/"
        },
        "id": "5l9sJcixGLPF",
        "outputId": "8096cee1-5c1d-491d-fad8-28618eeee51a"
      },
      "execution_count": 6,
      "outputs": [
        {
          "output_type": "execute_result",
          "data": {
            "text/plain": [
              "array([78.5 , 76.74, 78.68, 71.82, 84.19, 81.18, 76.99, 85.46, 70.66,\n",
              "       77.82, 75.37, 83.88, 79.5 , 80.76, 83.08, 76.03, 76.04, 85.11,\n",
              "       82.5 , 80.58, 82.18, 83.36, 70.67, 75.02, 70.96, 83.33, 74.75,\n",
              "       75.65, 74.15, 80.17, 82.27, 76.14, 71.1 , 84.35, 83.08, 76.76,\n",
              "       81.24, 78.21, 73.08, 83.23, 70.27, 86.41, 71.1 , 82.84, 82.38,\n",
              "       72.96, 77.46, 70.11, 72.38, 71.41, 72.22, 77.77, 84.44, 71.45,\n",
              "       82.21, 85.48, 75.03, 86.65, 70.9 , 71.7 , 73.61, 79.41, 76.19,\n",
              "       80.43, 85.78, 70.06, 81.25, 81.7 , 69.27, 82.79, 71.8 , 71.79,\n",
              "       74.97, 78.61, 77.59, 72.33, 72.08, 77.33, 70.05, 73.34, 84.  ,\n",
              "       82.93, 76.63, 75.36, 77.29, 72.87, 73.4 , 81.74, 71.85, 84.6 ,\n",
              "       79.56, 82.1 , 72.08, 79.1 , 81.01, 76.48, 75.39, 68.57, 83.64,\n",
              "       82.3 , 75.18, 82.03, 82.99, 79.26, 77.55, 77.07, 72.1 , 73.25,\n",
              "       74.25, 70.58, 81.08, 75.04, 76.38, 80.86, 78.42, 74.44, 70.34,\n",
              "       85.04, 73.61, 75.55, 76.2 , 82.69, 76.83, 79.53, 83.57, 85.95,\n",
              "       76.02, 77.65, 77.01, 74.49, 73.19, 71.86, 75.8 , 72.46, 78.39,\n",
              "       83.48, 83.15, 71.22, 85.98, 83.91, 84.58, 80.31, 82.55, 75.52,\n",
              "       83.82, 85.15, 82.75, 74.34, 82.02, 86.12, 71.87, 76.7 , 81.7 ,\n",
              "       70.78, 78.45, 70.2 , 83.37, 75.52, 81.57, 80.72, 80.81, 79.49,\n",
              "       79.17, 77.07, 82.04, 71.94, 81.6 , 70.79, 82.68, 83.08, 71.18,\n",
              "       77.63, 77.78, 70.4 , 73.02, 71.11, 85.96, 73.64, 84.24, 78.17,\n",
              "       77.19, 71.83, 86.99, 83.87, 71.5 , 79.63, 85.1 , 72.01, 77.27,\n",
              "       79.87, 73.14, 70.51, 84.03, 79.64, 74.24, 81.67, 84.68, 86.75,\n",
              "       78.05, 83.5 , 81.45])"
            ]
          },
          "metadata": {},
          "execution_count": 6
        }
      ]
    },
    {
      "cell_type": "markdown",
      "source": [
        "### **Training Dataset using Linear Regression**"
      ],
      "metadata": {
        "id": "KKYci7haGQW-"
      }
    },
    {
      "cell_type": "code",
      "source": [
        "model = LinearRegression()\n",
        "model.fit(X,Y)"
      ],
      "metadata": {
        "colab": {
          "base_uri": "https://localhost:8080/",
          "height": 74
        },
        "id": "-htLpx79GVvp",
        "outputId": "fb8a9e7b-ec43-4d65-c7e9-8dded9ae0e2e"
      },
      "execution_count": 7,
      "outputs": [
        {
          "output_type": "execute_result",
          "data": {
            "text/plain": [
              "LinearRegression()"
            ],
            "text/html": [
              "<style>#sk-container-id-1 {color: black;background-color: white;}#sk-container-id-1 pre{padding: 0;}#sk-container-id-1 div.sk-toggleable {background-color: white;}#sk-container-id-1 label.sk-toggleable__label {cursor: pointer;display: block;width: 100%;margin-bottom: 0;padding: 0.3em;box-sizing: border-box;text-align: center;}#sk-container-id-1 label.sk-toggleable__label-arrow:before {content: \"▸\";float: left;margin-right: 0.25em;color: #696969;}#sk-container-id-1 label.sk-toggleable__label-arrow:hover:before {color: black;}#sk-container-id-1 div.sk-estimator:hover label.sk-toggleable__label-arrow:before {color: black;}#sk-container-id-1 div.sk-toggleable__content {max-height: 0;max-width: 0;overflow: hidden;text-align: left;background-color: #f0f8ff;}#sk-container-id-1 div.sk-toggleable__content pre {margin: 0.2em;color: black;border-radius: 0.25em;background-color: #f0f8ff;}#sk-container-id-1 input.sk-toggleable__control:checked~div.sk-toggleable__content {max-height: 200px;max-width: 100%;overflow: auto;}#sk-container-id-1 input.sk-toggleable__control:checked~label.sk-toggleable__label-arrow:before {content: \"▾\";}#sk-container-id-1 div.sk-estimator input.sk-toggleable__control:checked~label.sk-toggleable__label {background-color: #d4ebff;}#sk-container-id-1 div.sk-label input.sk-toggleable__control:checked~label.sk-toggleable__label {background-color: #d4ebff;}#sk-container-id-1 input.sk-hidden--visually {border: 0;clip: rect(1px 1px 1px 1px);clip: rect(1px, 1px, 1px, 1px);height: 1px;margin: -1px;overflow: hidden;padding: 0;position: absolute;width: 1px;}#sk-container-id-1 div.sk-estimator {font-family: monospace;background-color: #f0f8ff;border: 1px dotted black;border-radius: 0.25em;box-sizing: border-box;margin-bottom: 0.5em;}#sk-container-id-1 div.sk-estimator:hover {background-color: #d4ebff;}#sk-container-id-1 div.sk-parallel-item::after {content: \"\";width: 100%;border-bottom: 1px solid gray;flex-grow: 1;}#sk-container-id-1 div.sk-label:hover label.sk-toggleable__label {background-color: #d4ebff;}#sk-container-id-1 div.sk-serial::before {content: \"\";position: absolute;border-left: 1px solid gray;box-sizing: border-box;top: 0;bottom: 0;left: 50%;z-index: 0;}#sk-container-id-1 div.sk-serial {display: flex;flex-direction: column;align-items: center;background-color: white;padding-right: 0.2em;padding-left: 0.2em;position: relative;}#sk-container-id-1 div.sk-item {position: relative;z-index: 1;}#sk-container-id-1 div.sk-parallel {display: flex;align-items: stretch;justify-content: center;background-color: white;position: relative;}#sk-container-id-1 div.sk-item::before, #sk-container-id-1 div.sk-parallel-item::before {content: \"\";position: absolute;border-left: 1px solid gray;box-sizing: border-box;top: 0;bottom: 0;left: 50%;z-index: -1;}#sk-container-id-1 div.sk-parallel-item {display: flex;flex-direction: column;z-index: 1;position: relative;background-color: white;}#sk-container-id-1 div.sk-parallel-item:first-child::after {align-self: flex-end;width: 50%;}#sk-container-id-1 div.sk-parallel-item:last-child::after {align-self: flex-start;width: 50%;}#sk-container-id-1 div.sk-parallel-item:only-child::after {width: 0;}#sk-container-id-1 div.sk-dashed-wrapped {border: 1px dashed gray;margin: 0 0.4em 0.5em 0.4em;box-sizing: border-box;padding-bottom: 0.4em;background-color: white;}#sk-container-id-1 div.sk-label label {font-family: monospace;font-weight: bold;display: inline-block;line-height: 1.2em;}#sk-container-id-1 div.sk-label-container {text-align: center;}#sk-container-id-1 div.sk-container {/* jupyter's `normalize.less` sets `[hidden] { display: none; }` but bootstrap.min.css set `[hidden] { display: none !important; }` so we also need the `!important` here to be able to override the default hidden behavior on the sphinx rendered scikit-learn.org. See: https://github.com/scikit-learn/scikit-learn/issues/21755 */display: inline-block !important;position: relative;}#sk-container-id-1 div.sk-text-repr-fallback {display: none;}</style><div id=\"sk-container-id-1\" class=\"sk-top-container\"><div class=\"sk-text-repr-fallback\"><pre>LinearRegression()</pre><b>In a Jupyter environment, please rerun this cell to show the HTML representation or trust the notebook. <br />On GitHub, the HTML representation is unable to render, please try loading this page with nbviewer.org.</b></div><div class=\"sk-container\" hidden><div class=\"sk-item\"><div class=\"sk-estimator sk-toggleable\"><input class=\"sk-toggleable__control sk-hidden--visually\" id=\"sk-estimator-id-1\" type=\"checkbox\" checked><label for=\"sk-estimator-id-1\" class=\"sk-toggleable__label sk-toggleable__label-arrow\">LinearRegression</label><div class=\"sk-toggleable__content\"><pre>LinearRegression()</pre></div></div></div></div></div>"
            ]
          },
          "metadata": {},
          "execution_count": 7
        }
      ]
    },
    {
      "cell_type": "markdown",
      "source": [
        "### **Predicted Price for Land sq.Feet of custom values**"
      ],
      "metadata": {
        "id": "x16EF1i4GXWw"
      }
    },
    {
      "cell_type": "code",
      "source": [
        "a=[[9.2,20,0]]\n",
        "PredictedmodelResult = model.predict(a)\n",
        "print(PredictedmodelResult)"
      ],
      "metadata": {
        "colab": {
          "base_uri": "https://localhost:8080/"
        },
        "id": "GsPrz7KUGbAk",
        "outputId": "ae535522-ed2c-4c1b-fb88-57db642553c1"
      },
      "execution_count": 8,
      "outputs": [
        {
          "output_type": "stream",
          "name": "stdout",
          "text": [
            "[86.26599847]\n"
          ]
        }
      ]
    }
  ]
}